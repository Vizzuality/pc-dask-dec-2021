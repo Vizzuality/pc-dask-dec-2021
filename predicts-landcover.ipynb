{
 "cells": [
  {
   "cell_type": "markdown",
   "id": "b712cccc-4130-4638-bb7c-d97918074776",
   "metadata": {},
   "source": [
    "# Predicts landcover data\n",
    "\n",
    "Script to get extract data from Esri 2020 10m landcover \n",
    "for locations in the PREDICTs biodiveristy dataset\n",
    "\n",
    "## Steps\n",
    "1. Read PREDICTS locations as points\n",
    "2. Buffer points (1km)\n",
    "3. Read landcover in those areas\n",
    "4. Calculate summary stats by class\n",
    "5. Write to csv"
   ]
  },
  {
   "cell_type": "code",
   "execution_count": 1,
   "id": "7ca86cd7-f0ca-4543-abbb-d118c6b10a81",
   "metadata": {},
   "outputs": [],
   "source": [
    "# 0. Install cog_worker library\n",
    "!pip install --upgrade --quiet --no-cache-dir cog_worker"
   ]
  },
  {
   "cell_type": "code",
   "execution_count": 2,
   "id": "2f41477a-db89-4a21-9ed8-29730fa7d852",
   "metadata": {},
   "outputs": [],
   "source": [
    "# 0. Load secrets from .env file\n",
    "%load_ext dotenv\n",
    "%dotenv .env"
   ]
  },
  {
   "cell_type": "code",
   "execution_count": 3,
   "id": "52b6b7d7-e6d6-4544-872e-005213bb8068",
   "metadata": {},
   "outputs": [],
   "source": [
    "# 0. Import libraries\n",
    "import geopandas as gpd\n",
    "import pandas as pd\n",
    "import cog_worker\n",
    "import pystac_client\n",
    "import rasterio as rio\n",
    "import numpy as np\n",
    "import json\n",
    "import os"
   ]
  },
  {
   "cell_type": "code",
   "execution_count": 4,
   "id": "42d4d3f6-04e9-4ee8-826f-b92311ad914a",
   "metadata": {},
   "outputs": [
    {
     "data": {
      "text/html": [
       "<div>\n",
       "<style scoped>\n",
       "    .dataframe tbody tr th:only-of-type {\n",
       "        vertical-align: middle;\n",
       "    }\n",
       "\n",
       "    .dataframe tbody tr th {\n",
       "        vertical-align: top;\n",
       "    }\n",
       "\n",
       "    .dataframe thead th {\n",
       "        text-align: right;\n",
       "    }\n",
       "</style>\n",
       "<table border=\"1\" class=\"dataframe\">\n",
       "  <thead>\n",
       "    <tr style=\"text-align: right;\">\n",
       "      <th></th>\n",
       "      <th>Unnamed: 0</th>\n",
       "      <th>UniqueID</th>\n",
       "      <th>Longitude</th>\n",
       "      <th>Latitude</th>\n",
       "      <th>Year</th>\n",
       "    </tr>\n",
       "  </thead>\n",
       "  <tbody>\n",
       "    <tr>\n",
       "      <th>0</th>\n",
       "      <td>1</td>\n",
       "      <td>AD1_2001__Liow 1  1</td>\n",
       "      <td>103.778611</td>\n",
       "      <td>1.351944</td>\n",
       "      <td>1999</td>\n",
       "    </tr>\n",
       "    <tr>\n",
       "      <th>1</th>\n",
       "      <td>2</td>\n",
       "      <td>AD1_2001__Liow 1  2</td>\n",
       "      <td>103.808056</td>\n",
       "      <td>1.354722</td>\n",
       "      <td>1999</td>\n",
       "    </tr>\n",
       "    <tr>\n",
       "      <th>2</th>\n",
       "      <td>3</td>\n",
       "      <td>AD1_2001__Liow 1  3</td>\n",
       "      <td>103.811667</td>\n",
       "      <td>1.394722</td>\n",
       "      <td>1999</td>\n",
       "    </tr>\n",
       "    <tr>\n",
       "      <th>3</th>\n",
       "      <td>4</td>\n",
       "      <td>AD1_2001__Liow 1  4</td>\n",
       "      <td>103.787222</td>\n",
       "      <td>1.326944</td>\n",
       "      <td>1999</td>\n",
       "    </tr>\n",
       "    <tr>\n",
       "      <th>4</th>\n",
       "      <td>5</td>\n",
       "      <td>AD1_2001__Liow 1  5</td>\n",
       "      <td>103.803611</td>\n",
       "      <td>1.282778</td>\n",
       "      <td>1999</td>\n",
       "    </tr>\n",
       "    <tr>\n",
       "      <th>...</th>\n",
       "      <td>...</td>\n",
       "      <td>...</td>\n",
       "      <td>...</td>\n",
       "      <td>...</td>\n",
       "      <td>...</td>\n",
       "    </tr>\n",
       "    <tr>\n",
       "      <th>36021</th>\n",
       "      <td>36022</td>\n",
       "      <td>YY1_2018__Guillemot 1  63</td>\n",
       "      <td>75.343770</td>\n",
       "      <td>12.225680</td>\n",
       "      <td>2017</td>\n",
       "    </tr>\n",
       "    <tr>\n",
       "      <th>36022</th>\n",
       "      <td>36023</td>\n",
       "      <td>YY1_2018__Guillemot 1  64</td>\n",
       "      <td>75.343790</td>\n",
       "      <td>12.225700</td>\n",
       "      <td>2017</td>\n",
       "    </tr>\n",
       "    <tr>\n",
       "      <th>36023</th>\n",
       "      <td>36024</td>\n",
       "      <td>YY1_2018__Guillemot 1  65</td>\n",
       "      <td>75.480130</td>\n",
       "      <td>12.192230</td>\n",
       "      <td>2017</td>\n",
       "    </tr>\n",
       "    <tr>\n",
       "      <th>36024</th>\n",
       "      <td>36025</td>\n",
       "      <td>YY1_2018__Guillemot 1  66</td>\n",
       "      <td>75.480220</td>\n",
       "      <td>12.192130</td>\n",
       "      <td>2017</td>\n",
       "    </tr>\n",
       "    <tr>\n",
       "      <th>36025</th>\n",
       "      <td>36026</td>\n",
       "      <td>YY1_2018__Guillemot 1  67</td>\n",
       "      <td>75.480120</td>\n",
       "      <td>12.213150</td>\n",
       "      <td>2017</td>\n",
       "    </tr>\n",
       "  </tbody>\n",
       "</table>\n",
       "<p>36026 rows × 5 columns</p>\n",
       "</div>"
      ],
      "text/plain": [
       "       Unnamed: 0                   UniqueID   Longitude   Latitude  Year\n",
       "0               1        AD1_2001__Liow 1  1  103.778611   1.351944  1999\n",
       "1               2        AD1_2001__Liow 1  2  103.808056   1.354722  1999\n",
       "2               3        AD1_2001__Liow 1  3  103.811667   1.394722  1999\n",
       "3               4        AD1_2001__Liow 1  4  103.787222   1.326944  1999\n",
       "4               5        AD1_2001__Liow 1  5  103.803611   1.282778  1999\n",
       "...           ...                        ...         ...        ...   ...\n",
       "36021       36022  YY1_2018__Guillemot 1  63   75.343770  12.225680  2017\n",
       "36022       36023  YY1_2018__Guillemot 1  64   75.343790  12.225700  2017\n",
       "36023       36024  YY1_2018__Guillemot 1  65   75.480130  12.192230  2017\n",
       "36024       36025  YY1_2018__Guillemot 1  66   75.480220  12.192130  2017\n",
       "36025       36026  YY1_2018__Guillemot 1  67   75.480120  12.213150  2017\n",
       "\n",
       "[36026 rows x 5 columns]"
      ]
     },
     "execution_count": 4,
     "metadata": {},
     "output_type": "execute_result"
    }
   ],
   "source": [
    "# 1.1 Load points\n",
    "\n",
    "sites = pd.read_csv('PREDICTS1_sites.csv')\n",
    "sites"
   ]
  },
  {
   "cell_type": "code",
   "execution_count": 5,
   "id": "c8ab5aa6-f1c0-4021-ae1d-109618fbbf58",
   "metadata": {},
   "outputs": [
    {
     "data": {
      "text/plain": [
       "<AxesSubplot:>"
      ]
     },
     "execution_count": 5,
     "metadata": {},
     "output_type": "execute_result"
    },
    {
     "data": {
      "image/png": "[encoded data removed]",
      "text/plain": [
       "<Figure size 432x288 with 1 Axes>"
      ]
     },
     "metadata": {
      "needs_background": "light"
     },
     "output_type": "display_data"
    }
   ],
   "source": [
    "# 1.2 Convert to geometries\n",
    "\n",
    "pts = gpd.points_from_xy(sites.Longitude, sites.Latitude, crs=4326)\n",
    "sites_with_geom = gpd.GeoDataFrame(sites, geometry=pts)\n",
    "sites_with_geom.plot()"
   ]
  },
  {
   "cell_type": "code",
   "execution_count": 6,
   "id": "a28a937b-0b75-4117-94f2-e005bb5fe772",
   "metadata": {},
   "outputs": [
    {
     "data": {
      "text/plain": [
       "<AxesSubplot:>"
      ]
     },
     "execution_count": 6,
     "metadata": {},
     "output_type": "execute_result"
    },
    {
     "data": {
      "image/png": "[encoded data removed]",
      "text/plain": [
       "<Figure size 432x288 with 1 Axes>"
      ]
     },
     "metadata": {
      "needs_background": "light"
     },
     "output_type": "display_data"
    }
   ],
   "source": [
    "# 2. Buffer points to 1km in Molleweide projection\n",
    "\n",
    "buffered_points = sites_with_geom.to_crs('+proj=moll').buffer(1000)\n",
    "buffered_points.plot()"
   ]
  },
  {
   "cell_type": "code",
   "execution_count": 7,
   "id": "e3508b85-98f4-4712-b56e-0df3e351ed1f",
   "metadata": {},
   "outputs": [],
   "source": [
    "# 3. Functions to get assets for a geometry\n",
    "\n",
    "def stac_search(url, **kwargs):\n",
    "    '''Search STAC catalog'''\n",
    "    client = pystac_client.Client.open(url, ignore_conformance=True) \n",
    "    # 1 io-stac-internal must ignore conformance\n",
    "    try: \n",
    "        search = client.search(limit=10000, **kwargs)\n",
    "        # io-stac-internal on old version of stac-fastapi cannot paginate\n",
    "        items = search.get_items()\n",
    "        return [asset.href for item in items for asset in item.assets.values()]\n",
    "    except Exception as e:  \n",
    "        if e.args[0] == '{\"detail\":\"No features found\"}':\n",
    "            # stac-fastapi returns 404 instead of empty list when none found\n",
    "            return []\n",
    "        raise e\n",
    "        \n",
    "def read_stac_collection_for_geometry(\n",
    "        url,\n",
    "        collection_id, \n",
    "        geom,\n",
    "        scale=1000,\n",
    "        proj='+proj=moll',\n",
    "        datetime=None\n",
    "    ):\n",
    "    '''Read assets in a STAC collection for a geometry'''\n",
    "    # 1. Instantiate a cog_worker to read the COG at for a given projection, scale, and bounds\n",
    "    bounds = geom.bounds\n",
    "    reader = cog_worker.Worker(proj_bounds=bounds, proj=proj, scale=scale)\n",
    "\n",
    "    # 2. Seach for assets in that area and read them\n",
    "    search_bbox = reader.lnglat_bounds() # search has to be lng/lat\n",
    "    assets = stac_search(url, collections=[collection_id], bbox=search_bbox, datetime=datetime)\n",
    "    arr = reader.read(assets)\n",
    "    \n",
    "    # 3. Mask the array to the geometry\n",
    "    mask = _mask_from_geom(reader, geom)\n",
    "    arr.mask = np.logical_or(arr.mask, np.logical_not(mask))\n",
    "    return arr\n",
    "    \n",
    "def _mask_from_geom(reader: cog_worker.Worker, geom):\n",
    "    '''Rasterize a geometry at a cog_worker's bounds and scale (crs must match)'''\n",
    "    shape = (reader.width+reader.buffer*2, reader.height+reader.buffer*2)\n",
    "    affine = rio.transform.from_bounds(*reader.bounds, *shape)\n",
    "    return rio.features.rasterize(((geom, 255),), out_shape=shape, transform=affine)[np.newaxis]\n",
    "\n"
   ]
  },
  {
   "cell_type": "code",
   "execution_count": 8,
   "id": "11b3da21-4c8f-4529-8a4a-e2bea18812c9",
   "metadata": {},
   "outputs": [
    {
     "name": "stdout",
     "output_type": "stream",
     "text": [
      "Found assets: ['/vsiaz/io-vizz-dynamic-science/esri-2020-land-cover-10m/global_lulc.tif']\n",
      "Asset metadata: {'driver': 'GTiff', 'dtype': 'uint8', 'nodata': 0.0, 'width': 2172513, 'height': 991447, 'count': 1, 'crs': CRS.from_epsg(4326), 'transform': Affine(0.00016570627047201875, 0.0, -179.99999998730883,\n",
      "       0.0, -0.0001657068215416194, 83.77604689492836)}\n"
     ]
    },
    {
     "data": {
      "image/png": "[encoded data removed]",
      "text/plain": [
       "<Figure size 432x288 with 1 Axes>"
      ]
     },
     "metadata": {
      "needs_background": "light"
     },
     "output_type": "display_data"
    },
    {
     "data": {
      "text/plain": [
       "<AxesSubplot:>"
      ]
     },
     "execution_count": 8,
     "metadata": {},
     "output_type": "execute_result"
    }
   ],
   "source": [
    "# 3.2 Test STAC read\n",
    "\n",
    "STAC_API_URL = 'http://io-stac-internal.azurewebsites.net'\n",
    "COLLECTION_ID = 'esri-2020-land-cover-10m'\n",
    "YEAR = 2020\n",
    "\n",
    "assets = stac_search(\n",
    "    url=STAC_API_URL,\n",
    "    collections=[COLLECTION_ID],\n",
    "    datetime=f'{YEAR}-01-01/{YEAR}-12-31'\n",
    ")\n",
    "print(\"Found assets:\", assets)\n",
    "\n",
    "# Read metadata headers with rasterio\n",
    "with rio.open(assets[0]) as src:\n",
    "    print(\"Asset metadata:\", src.meta)\n",
    "\n",
    "# Read a low overview of the 10m data\n",
    "arr, bbox = cog_worker.Manager().preview(lambda x: x.read(assets[0]))\n",
    "rio.plot.show(arr)"
   ]
  },
  {
   "cell_type": "code",
   "execution_count": 9,
   "id": "91ad81b2-c696-4246-92a6-0d4b033541ac",
   "metadata": {},
   "outputs": [
    {
     "data": {
      "image/png": "[encoded data removed]",
      "text/plain": [
       "<Figure size 432x288 with 1 Axes>"
      ]
     },
     "metadata": {
      "needs_background": "light"
     },
     "output_type": "display_data"
    },
    {
     "data": {
      "text/plain": [
       "<AxesSubplot:>"
      ]
     },
     "execution_count": 9,
     "metadata": {},
     "output_type": "execute_result"
    }
   ],
   "source": [
    "# 3.3 Test STAC Read\n",
    "\n",
    "arr = read_stac_collection_for_geometry(\n",
    "    url=STAC_API_URL,\n",
    "    geom=buffered_points[0],\n",
    "    collection_id=COLLECTION_ID,\n",
    "    scale=10,\n",
    "    proj='+proj=moll'\n",
    ")\n",
    "rio.plot.show(arr)"
   ]
  },
  {
   "cell_type": "code",
   "execution_count": 10,
   "id": "4108c4ab-6e4a-43e6-aa1f-8671e8b84bd9",
   "metadata": {},
   "outputs": [
    {
     "data": {
      "text/plain": [
       "{1: 0.036059514783927216,\n",
       " 2: 0.7640731614859743,\n",
       " 3: 0.008908263836239575,\n",
       " 5: 0.0020375284306292647,\n",
       " 6: 0.000971379833206975,\n",
       " 7: 0.18795015163002274}"
      ]
     },
     "execution_count": 10,
     "metadata": {},
     "output_type": "execute_result"
    }
   ],
   "source": [
    "# 4.1 Read data for each geometry in order and generate summary stats\n",
    "\n",
    "def get_landcover_freq(geom):\n",
    "    arr = read_stac_collection_for_geometry(\n",
    "        url=STAC_API_URL,\n",
    "        geom=geom,\n",
    "        collection_id=COLLECTION_ID,\n",
    "        scale=10,\n",
    "        proj='+proj=moll'\n",
    "    )\n",
    "    arr = arr.compressed()  # flatten array and discard masked data\n",
    "    values, counts = np.unique(arr, return_counts=True)\n",
    "    total_count = sum(counts)\n",
    "    counts = [c/total_count for c in counts]  # normalize to 0-1\n",
    "    return dict(zip(values, counts))\n",
    "\n",
    "geom = buffered_points[0]\n",
    "get_landcover_freq(geom)"
   ]
  },
  {
   "cell_type": "code",
   "execution_count": 11,
   "id": "e4772212-c75f-42da-81ca-1f95b6ec6ed3",
   "metadata": {},
   "outputs": [
    {
     "name": "stdout",
     "output_type": "stream",
     "text": [
      "Point 0 of 36026\n",
      "Point 1 of 36026\n",
      "Point 2 of 36026\n",
      "Point 3 of 36026\n",
      "Point 4 of 36026\n",
      "Point 5 of 36026\n",
      "Point 6 of 36026\n",
      "Point 7 of 36026\n",
      "Point 8 of 36026\n",
      "Point 9 of 36026\n",
      "Point 10 of 36026\n",
      "Point 11 of 36026\n",
      "Point 12 of 36026\n",
      "Point 13 of 36026\n",
      "Point 14 of 36026\n"
     ]
    },
    {
     "data": {
      "text/html": [
       "<div>\n",
       "<style scoped>\n",
       "    .dataframe tbody tr th:only-of-type {\n",
       "        vertical-align: middle;\n",
       "    }\n",
       "\n",
       "    .dataframe tbody tr th {\n",
       "        vertical-align: top;\n",
       "    }\n",
       "\n",
       "    .dataframe thead th {\n",
       "        text-align: right;\n",
       "    }\n",
       "</style>\n",
       "<table border=\"1\" class=\"dataframe\">\n",
       "  <thead>\n",
       "    <tr style=\"text-align: right;\">\n",
       "      <th></th>\n",
       "      <th>1</th>\n",
       "      <th>2</th>\n",
       "      <th>3</th>\n",
       "      <th>5</th>\n",
       "      <th>6</th>\n",
       "      <th>7</th>\n",
       "      <th>8</th>\n",
       "    </tr>\n",
       "  </thead>\n",
       "  <tbody>\n",
       "    <tr>\n",
       "      <th>0</th>\n",
       "      <td>0.036060</td>\n",
       "      <td>0.764073</td>\n",
       "      <td>0.008908</td>\n",
       "      <td>0.002038</td>\n",
       "      <td>0.000971</td>\n",
       "      <td>0.187950</td>\n",
       "      <td>NaN</td>\n",
       "    </tr>\n",
       "    <tr>\n",
       "      <th>1</th>\n",
       "      <td>0.040964</td>\n",
       "      <td>0.795181</td>\n",
       "      <td>0.058970</td>\n",
       "      <td>NaN</td>\n",
       "      <td>0.008695</td>\n",
       "      <td>0.086998</td>\n",
       "      <td>0.009193</td>\n",
       "    </tr>\n",
       "    <tr>\n",
       "      <th>2</th>\n",
       "      <td>0.068660</td>\n",
       "      <td>0.753980</td>\n",
       "      <td>0.033690</td>\n",
       "      <td>NaN</td>\n",
       "      <td>NaN</td>\n",
       "      <td>0.143669</td>\n",
       "      <td>NaN</td>\n",
       "    </tr>\n",
       "    <tr>\n",
       "      <th>3</th>\n",
       "      <td>NaN</td>\n",
       "      <td>0.230951</td>\n",
       "      <td>0.038429</td>\n",
       "      <td>NaN</td>\n",
       "      <td>0.008079</td>\n",
       "      <td>0.722541</td>\n",
       "      <td>NaN</td>\n",
       "    </tr>\n",
       "    <tr>\n",
       "      <th>4</th>\n",
       "      <td>NaN</td>\n",
       "      <td>0.097896</td>\n",
       "      <td>0.003033</td>\n",
       "      <td>NaN</td>\n",
       "      <td>NaN</td>\n",
       "      <td>0.899071</td>\n",
       "      <td>NaN</td>\n",
       "    </tr>\n",
       "    <tr>\n",
       "      <th>5</th>\n",
       "      <td>0.036060</td>\n",
       "      <td>0.764073</td>\n",
       "      <td>0.008908</td>\n",
       "      <td>0.002038</td>\n",
       "      <td>0.000971</td>\n",
       "      <td>0.187950</td>\n",
       "      <td>NaN</td>\n",
       "    </tr>\n",
       "    <tr>\n",
       "      <th>6</th>\n",
       "      <td>0.040964</td>\n",
       "      <td>0.795181</td>\n",
       "      <td>0.058970</td>\n",
       "      <td>NaN</td>\n",
       "      <td>0.008695</td>\n",
       "      <td>0.086998</td>\n",
       "      <td>0.009193</td>\n",
       "    </tr>\n",
       "    <tr>\n",
       "      <th>7</th>\n",
       "      <td>0.068660</td>\n",
       "      <td>0.753980</td>\n",
       "      <td>0.033690</td>\n",
       "      <td>NaN</td>\n",
       "      <td>NaN</td>\n",
       "      <td>0.143669</td>\n",
       "      <td>NaN</td>\n",
       "    </tr>\n",
       "    <tr>\n",
       "      <th>8</th>\n",
       "      <td>NaN</td>\n",
       "      <td>0.230951</td>\n",
       "      <td>0.038429</td>\n",
       "      <td>NaN</td>\n",
       "      <td>0.008079</td>\n",
       "      <td>0.722541</td>\n",
       "      <td>NaN</td>\n",
       "    </tr>\n",
       "    <tr>\n",
       "      <th>9</th>\n",
       "      <td>NaN</td>\n",
       "      <td>0.097896</td>\n",
       "      <td>0.003033</td>\n",
       "      <td>NaN</td>\n",
       "      <td>NaN</td>\n",
       "      <td>0.899071</td>\n",
       "      <td>NaN</td>\n",
       "    </tr>\n",
       "    <tr>\n",
       "      <th>10</th>\n",
       "      <td>NaN</td>\n",
       "      <td>1.000000</td>\n",
       "      <td>NaN</td>\n",
       "      <td>NaN</td>\n",
       "      <td>NaN</td>\n",
       "      <td>NaN</td>\n",
       "      <td>NaN</td>\n",
       "    </tr>\n",
       "    <tr>\n",
       "      <th>11</th>\n",
       "      <td>NaN</td>\n",
       "      <td>0.999763</td>\n",
       "      <td>NaN</td>\n",
       "      <td>0.000071</td>\n",
       "      <td>NaN</td>\n",
       "      <td>NaN</td>\n",
       "      <td>0.000166</td>\n",
       "    </tr>\n",
       "    <tr>\n",
       "      <th>12</th>\n",
       "      <td>0.003672</td>\n",
       "      <td>0.911225</td>\n",
       "      <td>0.002559</td>\n",
       "      <td>0.019191</td>\n",
       "      <td>0.005497</td>\n",
       "      <td>0.050227</td>\n",
       "      <td>0.007629</td>\n",
       "    </tr>\n",
       "    <tr>\n",
       "      <th>13</th>\n",
       "      <td>NaN</td>\n",
       "      <td>1.000000</td>\n",
       "      <td>NaN</td>\n",
       "      <td>NaN</td>\n",
       "      <td>NaN</td>\n",
       "      <td>NaN</td>\n",
       "      <td>NaN</td>\n",
       "    </tr>\n",
       "    <tr>\n",
       "      <th>14</th>\n",
       "      <td>NaN</td>\n",
       "      <td>0.999763</td>\n",
       "      <td>NaN</td>\n",
       "      <td>0.000071</td>\n",
       "      <td>NaN</td>\n",
       "      <td>NaN</td>\n",
       "      <td>0.000166</td>\n",
       "    </tr>\n",
       "  </tbody>\n",
       "</table>\n",
       "</div>"
      ],
      "text/plain": [
       "           1         2         3         5         6         7         8\n",
       "0   0.036060  0.764073  0.008908  0.002038  0.000971  0.187950       NaN\n",
       "1   0.040964  0.795181  0.058970       NaN  0.008695  0.086998  0.009193\n",
       "2   0.068660  0.753980  0.033690       NaN       NaN  0.143669       NaN\n",
       "3        NaN  0.230951  0.038429       NaN  0.008079  0.722541       NaN\n",
       "4        NaN  0.097896  0.003033       NaN       NaN  0.899071       NaN\n",
       "5   0.036060  0.764073  0.008908  0.002038  0.000971  0.187950       NaN\n",
       "6   0.040964  0.795181  0.058970       NaN  0.008695  0.086998  0.009193\n",
       "7   0.068660  0.753980  0.033690       NaN       NaN  0.143669       NaN\n",
       "8        NaN  0.230951  0.038429       NaN  0.008079  0.722541       NaN\n",
       "9        NaN  0.097896  0.003033       NaN       NaN  0.899071       NaN\n",
       "10       NaN  1.000000       NaN       NaN       NaN       NaN       NaN\n",
       "11       NaN  0.999763       NaN  0.000071       NaN       NaN  0.000166\n",
       "12  0.003672  0.911225  0.002559  0.019191  0.005497  0.050227  0.007629\n",
       "13       NaN  1.000000       NaN       NaN       NaN       NaN       NaN\n",
       "14       NaN  0.999763       NaN  0.000071       NaN       NaN  0.000166"
      ]
     },
     "execution_count": 11,
     "metadata": {},
     "output_type": "execute_result"
    }
   ],
   "source": [
    "# 5. compute results for each point and write to csv\n",
    "\n",
    "LIMIT = 15\n",
    "results = []\n",
    "for i, geom in enumerate(buffered_points[:LIMIT]):\n",
    "    print(f'Point {i} of {len(buffered_points)}', flush=True)\n",
    "    results.append(get_landcover_freq(geom))\n",
    "results = pd.DataFrame(results, index=sites_with_geom.index[:LIMIT])\n",
    "results.to_csv('predicts_1km_lc_2020_test.csv')\n",
    "results"
   ]
  },
  {
   "cell_type": "markdown",
   "id": "d6b6348b-b395-442d-bc35-1866fabcd0b2",
   "metadata": {},
   "source": [
    "# Using dask"
   ]
  },
  {
   "cell_type": "code",
   "execution_count": 12,
   "id": "de411efc-6614-4d74-bfb6-774816eeb218",
   "metadata": {},
   "outputs": [],
   "source": [
    "# 0. import libraries\n",
    "import dask\n",
    "from dask.distributed import Client, PipInstall\n",
    "import dask_gateway\n"
   ]
  },
  {
   "cell_type": "code",
   "execution_count": 13,
   "id": "531f252b-f233-4834-bd1c-acaa37051d0d",
   "metadata": {},
   "outputs": [],
   "source": [
    "# 1. parallelize by multiprocessing in a dask LocalCluster\n",
    "\n",
    "# Instantiate a client, creating a local cluster\n",
    "client = Client()\n",
    "client.close()"
   ]
  },
  {
   "cell_type": "code",
   "execution_count": 14,
   "id": "369c9b03-850e-457e-ade4-123d033e4589",
   "metadata": {},
   "outputs": [
    {
     "data": {
      "application/vnd.jupyter.widget-view+json": {
       "model_id": "480d8d8879fb448283e79898897062c3",
       "version_major": 2,
       "version_minor": 0
      },
      "text/plain": [
       "VBox(children=(HTML(value='<h2>Cluster Options</h2>'), GridBox(children=(HTML(value=\"<p style='font-weight: bo…"
      ]
     },
     "metadata": {},
     "output_type": "display_data"
    }
   ],
   "source": [
    "# Connect to the Platenary Computer Dask Gateway\n",
    "gateway = dask_gateway.Gateway()\n",
    "gateway.cluster_options()"
   ]
  },
  {
   "cell_type": "code",
   "execution_count": 15,
   "id": "3a5e24c7-d182-44df-a1e6-59e8aa55f684",
   "metadata": {},
   "outputs": [
    {
     "name": "stdout",
     "output_type": "stream",
     "text": [
      "https://pccompute.westeurope.cloudapp.azure.com/compute/services/dask-gateway/clusters/prod.6abc0545d83546ed97ed48db0577a9c1/status\n"
     ]
    }
   ],
   "source": [
    "# Instatiate a new cluster and scale it to 1 worker\n",
    "cluster = gateway.new_cluster()\n",
    "print(cluster.dashboard_link)"
   ]
  },
  {
   "cell_type": "code",
   "execution_count": 16,
   "id": "6c3e62b6-80c1-42aa-9c69-1c2aa531881b",
   "metadata": {},
   "outputs": [
    {
     "data": {
      "text/plain": [
       "array([[0.60628287, 0.43864005, 0.51507442, ..., 0.93108925, 0.37463044,\n",
       "        0.78981351],\n",
       "       [0.4214264 , 0.06875615, 0.21843908, ..., 0.56287428, 0.46045831,\n",
       "        0.49977505],\n",
       "       [0.7857518 , 0.20877713, 0.57867809, ..., 0.6851317 , 0.68534214,\n",
       "        0.3566765 ],\n",
       "       ...,\n",
       "       [0.9959555 , 0.88437361, 0.83425883, ..., 0.91628775, 0.55400775,\n",
       "        0.58873595],\n",
       "       [0.72975505, 0.63188954, 0.82051397, ..., 0.34375928, 0.95852455,\n",
       "        0.68272302],\n",
       "       [0.96192888, 0.9089775 , 0.82997921, ..., 0.27985961, 0.68806772,\n",
       "        0.30912677]])"
      ]
     },
     "execution_count": 16,
     "metadata": {},
     "output_type": "execute_result"
    }
   ],
   "source": [
    "# Try computing something on the gateway\n",
    "client = cluster.get_client()\n",
    "cluster.scale(1)\n",
    "\n",
    "rands = dask.delayed(np.random.random)((10000, 10000))\n",
    "rands_sqrt = dask.delayed(np.sqrt)(rands)\n",
    "future = client.compute(rands_sqrt)\n",
    "future.result()"
   ]
  },
  {
   "cell_type": "code",
   "execution_count": 17,
   "id": "6e978a01-ddba-4ca0-a0ca-8170fe108389",
   "metadata": {},
   "outputs": [],
   "source": [
    "# Release the cluster and gateway\n",
    "client.close()\n",
    "cluster.close()\n",
    "gateway.close()"
   ]
  },
  {
   "cell_type": "code",
   "execution_count": 18,
   "id": "a8ec24ce-cd82-4781-b117-080a219f74b2",
   "metadata": {},
   "outputs": [],
   "source": [
    "# Putting it all together"
   ]
  },
  {
   "cell_type": "code",
   "execution_count": 19,
   "id": "a1d67b5c-85fc-4f1e-9ef9-ccd7fe550449",
   "metadata": {},
   "outputs": [
    {
     "data": {
      "text/plain": [
       "\"\\n# Create delayed functions as tasks to execute in the cluster\\ntasks = []\\n\\ndef _wrapper(i, geom):\\n    # wrap the function to add a print statement\\n    print(f'Point {i} of {len(buffered_points)}', flush=True)\\n    return get_landcover_freq(geom)\\n\\nfor i, geom in enumerate(buffered_points[:LIMIT]):\\n    delayed = dask.delayed(_wrapper)(i, geom)\\n    tasks.append(delayed)\\n\\n# Send tasks to cluster to execute\\nfutures = client.compute(tasks, retries=2)\\n\\n# Wait for tasks to complete\\nresults = client.gather(futures)\\nresults = pd.DataFrame(results, index=sites_with_geom.index[:LIMIT])\\n\\n# Close local cluster\\nclient.close()\\nresults\\n\""
      ]
     },
     "execution_count": 19,
     "metadata": {},
     "output_type": "execute_result"
    }
   ],
   "source": [
    "# Solution\n",
    "\n",
    "'''\n",
    "# Create delayed functions as tasks to execute in the cluster\n",
    "tasks = []\n",
    "\n",
    "def _wrapper(i, geom):\n",
    "    # wrap the function to add a print statement\n",
    "    print(f'Point {i} of {len(buffered_points)}', flush=True)\n",
    "    return get_landcover_freq(geom)\n",
    "\n",
    "for i, geom in enumerate(buffered_points[:LIMIT]):\n",
    "    delayed = dask.delayed(_wrapper)(i, geom)\n",
    "    tasks.append(delayed)\n",
    "\n",
    "# Send tasks to cluster to execute\n",
    "futures = client.compute(tasks, retries=2)\n",
    "\n",
    "# Wait for tasks to complete\n",
    "results = client.gather(futures)\n",
    "results = pd.DataFrame(results, index=sites_with_geom.index[:LIMIT])\n",
    "\n",
    "# Close local cluster\n",
    "client.close()\n",
    "results\n",
    "'''"
   ]
  },
  {
   "cell_type": "code",
   "execution_count": 20,
   "id": "30057f30-68db-4fc3-ae4a-f3bedd78edea",
   "metadata": {},
   "outputs": [
    {
     "data": {
      "text/plain": [
       "\"\\ncluster_options = {\\n    'worker_memory':2,\\n    'environment':{\\n        'AZURE_SAS': os.getenv('AZURE_SAS'),\\n        'AZURE_STORAGE_ACCOUNT': os.getenv('AZURE_STORAGE_ACCOUNT'),\\n        'DASK_DISTRIBUTED__SCHEDULER__ALLOWED_FAILURES': '3',\\n    }\\n}\\nrequirements = ['cog_worker']\\n\\ntasks = [\\n    dask.delayed(get_landcover_freq)(geom)\\n    for geom in buffered_points\\n]\\n\\n# Use context managers to auto-close when tasks are done or failed\\nwith dask_gateway.Gateway() as gateway,     gateway.new_cluster(**cluster_options) as cluster,     cluster.get_client() as client:\\n        print (cluster.dashboard_link)\\n    \\n        # install necessary libraries\\n        plugin = PipInstall(packages=requirements, pip_options=['--upgrade'])\\n        client.register_worker_plugin(plugin)\\n        \\n        # autoscale cluster\\n        cluster.adapt(1, 16)\\n        \\n        # compute tasks\\n        futures = client.compute(tasks, retries=3)\\n        \\n        # stream in results as they are compeleted\\n        results = []\\n        count = 0\\n        for future, result in dask.distributed.as_completed(futures, with_results=True):\\n            results.append(result)\\n            count += 1\\n            if count % 100 == 0:\\n                print(count)\\n\\nresults = pd.DataFrame(results, index=sites_with_geom.index)\\nresults.to_csv('predicts_1km_lc_2020.csv')\\nresults\\n\""
      ]
     },
     "execution_count": 20,
     "metadata": {},
     "output_type": "execute_result"
    }
   ],
   "source": [
    "'''\n",
    "cluster_options = {\n",
    "    'worker_memory':2,\n",
    "    'environment':{\n",
    "        'AZURE_SAS': os.getenv('AZURE_SAS'),\n",
    "        'AZURE_STORAGE_ACCOUNT': os.getenv('AZURE_STORAGE_ACCOUNT'),\n",
    "        'DASK_DISTRIBUTED__SCHEDULER__ALLOWED_FAILURES': '3',\n",
    "    }\n",
    "}\n",
    "requirements = ['cog_worker']\n",
    "\n",
    "tasks = [\n",
    "    dask.delayed(get_landcover_freq)(geom)\n",
    "    for geom in buffered_points\n",
    "]\n",
    "\n",
    "# Use context managers to auto-close when tasks are done or failed\n",
    "with dask_gateway.Gateway() as gateway, \\\n",
    "    gateway.new_cluster(**cluster_options) as cluster, \\\n",
    "    cluster.get_client() as client:\n",
    "        print (cluster.dashboard_link)\n",
    "    \n",
    "        # install necessary libraries\n",
    "        plugin = PipInstall(packages=requirements, pip_options=['--upgrade'])\n",
    "        client.register_worker_plugin(plugin)\n",
    "        \n",
    "        # autoscale cluster\n",
    "        cluster.adapt(1, 16)\n",
    "        \n",
    "        # compute tasks\n",
    "        futures = client.compute(tasks, retries=3)\n",
    "        \n",
    "        # stream in results as they are compeleted\n",
    "        results = []\n",
    "        count = 0\n",
    "        for future, result in dask.distributed.as_completed(futures, with_results=True):\n",
    "            results.append(result)\n",
    "            count += 1\n",
    "            if count % 100 == 0:\n",
    "                print(count)\n",
    "\n",
    "results = pd.DataFrame(results, index=sites_with_geom.index)\n",
    "results.to_csv('predicts_1km_lc_2020.csv')\n",
    "results\n",
    "'''"
   ]
  }
 ],
 "metadata": {
  "kernelspec": {
   "display_name": "Python 3 (ipykernel)",
   "language": "python",
   "name": "python3"
  },
  "language_info": {
   "codemirror_mode": {
    "name": "ipython",
    "version": 3
   },
   "file_extension": ".py",
   "mimetype": "text/x-python",
   "name": "python",
   "nbconvert_exporter": "python",
   "pygments_lexer": "ipython3",
   "version": "3.8.12"
  }
 },
 "nbformat": 4,
 "nbformat_minor": 5
}
